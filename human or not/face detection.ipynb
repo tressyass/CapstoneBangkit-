{
 "cells": [
  {
   "cell_type": "code",
   "execution_count": null,
   "id": "c5ff5930",
   "metadata": {},
   "outputs": [],
   "source": [
    "from PIL import Image\n",
    "from keras.models import load_model\n",
    "from keras_facenet import FaceNet\n",
    "import numpy as np\n",
    "from numpy import asarray\n",
    "from numpy import expand_dims\n",
    "import pickle\n",
    "import cv2"
   ]
  },
  {
   "cell_type": "code",
   "execution_count": null,
   "id": "03a67cea",
   "metadata": {},
   "outputs": [],
   "source": [
    "HaarCascade = cv2.CascadeClassifier(cv2.samples.findFile(cv2.data.haarcascades + 'haarcascade_frontalface_default.xml'))\n",
    "MyFaceNet = FaceNet()"
   ]
  },
  {
   "cell_type": "code",
   "execution_count": null,
   "id": "2823a1c5",
   "metadata": {},
   "outputs": [],
   "source": [
    "myfile = open(\"dataset.pkl\", \"rb\")\n",
    "database = pickle.load(myfile)\n",
    "myfile.close()"
   ]
  },
  {
   "cell_type": "code",
   "execution_count": null,
   "id": "0051b8ec",
   "metadata": {},
   "outputs": [],
   "source": [
    "cap = cv2.VideoCapture(0)\n",
    "while(1):\n",
    "    _, gambar1 = cap.read()\n",
    "    face = HaarCascade.detectMultiScale(gambar1,1.1,4)\n",
    "    \n",
    "    if len(face)>0:\n",
    "        x1,y1,w,h = face[0]\n",
    "    else:\n",
    "        x1,y1,w,h = 1,1,10,10\n",
    "        \n",
    "    x1,y1 = abs(x1), abs(y1)\n",
    "    x2,y2 = x1 + w, y1 + h\n",
    "    \n",
    "    gambar = cv2.cvtColor(gambar1, cv2.COLOR_BGR2RGB)\n",
    "    gambar = Image.fromarray(gambar)\n",
    "    gambar_array = asarray(gambar)\n",
    "    \n",
    "    wajah = gambar_array[y1:y2, x1:x2]\n",
    "    \n",
    "    wajah = Image.fromarray(wajah)\n",
    "    wajah = wajah.resize((160,160))\n",
    "    wajah = asarray(wajah)\n",
    "    \n",
    "    wajah = expand_dims(wajah, axis=0)\n",
    "    signature = MyFaceNet.embeddings(wajah)\n",
    "    \n",
    "    min_dist = 100\n",
    "    identity = ' '\n",
    "    for key, value in database.items():\n",
    "        dist = np.linalg.norm(value-signature)\n",
    "        if dist < min_dist:\n",
    "            min_dist = dist\n",
    "            identity = key\n",
    "            \n",
    "    cv2.putText(gambar1, identity, (100,100), cv2.FONT_HERSHEY_SIMPLEX, 1, (255,255,0), 2, cv2.LINE_AA)\n",
    "    cv2.rectangle(gambar1, (x1,y1), (x2,y2), (0,255,0), 2)\n",
    "    \n",
    "    cv2.imshow('res', gambar1)\n",
    "    k = cv2.waitKey(5) & 0xFF\n",
    "    if k == 27:\n",
    "        break\n",
    "        \n",
    "cv2.destroyAllWindows()\n",
    "cap.release()"
   ]
  },
  {
   "cell_type": "code",
   "execution_count": null,
   "id": "f25ee9e6",
   "metadata": {},
   "outputs": [],
   "source": []
  }
 ],
 "metadata": {
  "kernelspec": {
   "display_name": "Python 3 (ipykernel)",
   "language": "python",
   "name": "python3"
  },
  "language_info": {
   "codemirror_mode": {
    "name": "ipython",
    "version": 3
   },
   "file_extension": ".py",
   "mimetype": "text/x-python",
   "name": "python",
   "nbconvert_exporter": "python",
   "pygments_lexer": "ipython3",
   "version": "3.10.9"
  }
 },
 "nbformat": 4,
 "nbformat_minor": 5
}
