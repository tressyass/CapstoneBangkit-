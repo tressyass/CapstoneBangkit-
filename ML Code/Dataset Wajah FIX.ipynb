{
 "cells": [
  {
   "cell_type": "code",
   "execution_count": 1,
   "id": "22af502a",
   "metadata": {},
   "outputs": [],
   "source": [
    "import cv2\n",
    "import os\n",
    "import random"
   ]
  },
  {
   "cell_type": "code",
   "execution_count": 2,
   "id": "185ce44f",
   "metadata": {},
   "outputs": [],
   "source": [
    "def create_dataset(output_folder, class_name, camera_index=0):\n",
    "    output_path = os.path.join(output_folder, class_name)\n",
    "    os.makedirs(output_path, exist_ok=True)\n",
    "\n",
    "    train_folder = os.path.join(output_path, 'train/202031182_oxyrh')\n",
    "    os.makedirs(train_folder, exist_ok=True)\n",
    "\n",
    "    validation_folder = os.path.join(output_path, 'validation/202031182_oxyrh')\n",
    "    os.makedirs(validation_folder, exist_ok=True)\n",
    "\n",
    "    cap = cv2.VideoCapture(camera_index)\n",
    "    cap.set(cv2.CAP_PROP_FRAME_WIDTH, 640)\n",
    "    cap.set(cv2.CAP_PROP_FRAME_HEIGHT, 480)\n",
    "\n",
    "    sample_count = 0\n",
    "    train_count = 0\n",
    "    validation_count = 0\n",
    "\n",
    "    while True:\n",
    "        ret, frame = cap.read()\n",
    "        if not ret:\n",
    "            break\n",
    "\n",
    "        cv2.imshow('Capture Face', frame)\n",
    "\n",
    "        gray = cv2.cvtColor(frame, cv2.COLOR_BGR2GRAY)\n",
    "        face_cascade = cv2.CascadeClassifier(cv2.data.haarcascades + 'haarcascade_frontalface_default.xml')\n",
    "        faces = face_cascade.detectMultiScale(gray, 1.3, 5)\n",
    "\n",
    "        for (x, y, w, h) in faces:\n",
    "            cv2.rectangle(frame, (x, y), (x+w, y+h), (255, 0, 0), 2)\n",
    "\n",
    "            sample_count += 1\n",
    "            face_image = frame[y:y+h, x:x+w]\n",
    "\n",
    "            if sample_count <= 50:\n",
    "                save_path = os.path.join(train_folder, f'{class_name}_{train_count}.jpg')\n",
    "                train_count += 1\n",
    "            else:\n",
    "                save_path = os.path.join(validation_folder, f'{class_name}_{validation_count}.jpg')\n",
    "                validation_count += 1\n",
    "\n",
    "            cv2.imwrite(save_path, face_image)\n",
    "            cv2.putText(frame, f'Train Samples: {train_count}', (50, 50), cv2.FONT_HERSHEY_SIMPLEX, 1, (0, 255, 0), 2)\n",
    "            cv2.putText(frame, f'Validation Samples: {validation_count}', (50, 100), cv2.FONT_HERSHEY_SIMPLEX, 1, (0, 0, 255), 2)\n",
    "\n",
    "        cv2.imshow('Capture Face', frame)\n",
    "\n",
    "        if cv2.waitKey(1) & 0xFF == ord('q') or sample_count >= 100:\n",
    "            break\n",
    "\n",
    "    cap.release()\n",
    "    cv2.destroyAllWindows()\n",
    "\n",
    "output_folder = 'dataset'  \n",
    "class_name = '202031182_oxy_rahmanda2'  \n",
    "\n",
    "create_dataset(output_folder, class_name)"
   ]
  },
  {
   "cell_type": "code",
   "execution_count": null,
   "id": "17f56e3f",
   "metadata": {},
   "outputs": [],
   "source": []
  }
 ],
 "metadata": {
  "kernelspec": {
   "display_name": "Python 3 (ipykernel)",
   "language": "python",
   "name": "python3"
  },
  "language_info": {
   "codemirror_mode": {
    "name": "ipython",
    "version": 3
   },
   "file_extension": ".py",
   "mimetype": "text/x-python",
   "name": "python",
   "nbconvert_exporter": "python",
   "pygments_lexer": "ipython3",
   "version": "3.9.13"
  }
 },
 "nbformat": 4,
 "nbformat_minor": 5
}
