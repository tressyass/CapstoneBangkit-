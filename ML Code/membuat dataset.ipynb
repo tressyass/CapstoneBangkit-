{
 "cells": [
  {
   "cell_type": "code",
   "execution_count": 1,
   "id": "f6c77d2d",
   "metadata": {},
   "outputs": [],
   "source": [
    "import cv2\n",
    "import os"
   ]
  },
  {
   "cell_type": "code",
   "execution_count": 2,
   "id": "475888d5",
   "metadata": {},
   "outputs": [],
   "source": [
    "#membuat folder\n",
    "def create_folder(directory):\n",
    "    if not os.path.exists(directory):\n",
    "        os.makedirs(directory)"
   ]
  },
  {
   "cell_type": "code",
   "execution_count": 3,
   "id": "212198e3",
   "metadata": {},
   "outputs": [],
   "source": [
    "#inisialisasi cascade classifier untuk deteksi wajah\n",
    "face_cascade = cv2.CascadeClassifier(cv2.data.haarcascades + 'haarcascade_frontalface_default.xml')"
   ]
  },
  {
   "cell_type": "code",
   "execution_count": 4,
   "id": "99e7a8bc",
   "metadata": {},
   "outputs": [],
   "source": [
    "#inisialisasi kamera\n",
    "cap = cv2.VideoCapture(0)"
   ]
  },
  {
   "cell_type": "code",
   "execution_count": 5,
   "id": "685fb26f",
   "metadata": {},
   "outputs": [],
   "source": [
    "#menentukan label dan nama folder\n",
    "label = \"pemilih\"\n",
    "folder_name = \"dataset/\" + label"
   ]
  },
  {
   "cell_type": "code",
   "execution_count": 6,
   "id": "4c816a8e",
   "metadata": {},
   "outputs": [],
   "source": [
    "#membuat folder dataset\n",
    "create_folder(folder_name)"
   ]
  },
  {
   "cell_type": "code",
   "execution_count": 7,
   "id": "1e6cfdff",
   "metadata": {},
   "outputs": [],
   "source": [
    "#menghitung jumlah gambar yang telah diambil\n",
    "count = 0"
   ]
  },
  {
   "cell_type": "code",
   "execution_count": 8,
   "id": "e49ca162",
   "metadata": {},
   "outputs": [
    {
     "ename": "SyntaxError",
     "evalue": "invalid syntax (3115914301.py, line 17)",
     "output_type": "error",
     "traceback": [
      "\u001b[1;36m  File \u001b[1;32m\"C:\\Users\\HP\\AppData\\Local\\Temp\\ipykernel_17096\\3115914301.py\"\u001b[1;36m, line \u001b[1;32m17\u001b[0m\n\u001b[1;33m    if cv2.waitKey(1)Q & 0xFF == ord('q'):\u001b[0m\n\u001b[1;37m                     ^\u001b[0m\n\u001b[1;31mSyntaxError\u001b[0m\u001b[1;31m:\u001b[0m invalid syntax\n"
     ]
    }
   ],
   "source": [
    "while True:\n",
    "    ret, frame = cap.read()\n",
    "    #konversi grayscale\n",
    "    gray = cv2.cvtColor(frame, cv2.COLOR_BGR2GRAY)\n",
    "    faces = face_cascade.detectMultiScale(gray, 1.3, 5)\n",
    "    \n",
    "    for (x,y,w,h) in faces:\n",
    "        cv2.rectangle(frame, (x,y), (x+w, y+h), (255,0,0), 2)\n",
    "        #menyimpan gambar ke dalam folder dataset\n",
    "        cv2.imwrite(folder_name + '/' +str(count) + '.jpg', gray[y:y+h, x:x+w])\n",
    "        #menampilkan jumlah gambar yang terambil\n",
    "        print(f\"Menyimpang gambar {count}...\")\n",
    "        #increment count\n",
    "        count += 1\n",
    "        \n",
    "    cv2.imshow('Dataset Creation', frame)\n",
    "    if cv2.waitKey(1)Q & 0xFF == ord('q'):\n",
    "        break"
   ]
  },
  {
   "cell_type": "code",
   "execution_count": null,
   "id": "4453a088",
   "metadata": {},
   "outputs": [],
   "source": [
    "#tutup kamera\n",
    "cap.release()\n",
    "#tutup semua jendela terbuka\n",
    "cv2.destroyAllWindows()"
   ]
  },
  {
   "cell_type": "code",
   "execution_count": null,
   "id": "3c0b1fe8",
   "metadata": {},
   "outputs": [],
   "source": [
    "print(cv2.__version__)"
   ]
  }
 ],
 "metadata": {
  "kernelspec": {
   "display_name": "Python 3 (ipykernel)",
   "language": "python",
   "name": "python3"
  },
  "language_info": {
   "codemirror_mode": {
    "name": "ipython",
    "version": 3
   },
   "file_extension": ".py",
   "mimetype": "text/x-python",
   "name": "python",
   "nbconvert_exporter": "python",
   "pygments_lexer": "ipython3",
   "version": "3.9.13"
  }
 },
 "nbformat": 4,
 "nbformat_minor": 5
}
